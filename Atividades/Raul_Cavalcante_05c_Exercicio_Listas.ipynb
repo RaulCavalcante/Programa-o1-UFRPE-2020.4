{
  "nbformat": 4,
  "nbformat_minor": 0,
  "metadata": {
    "colab": {
      "name": "Raul Cavalcante - 05c_Exercicio_Listas.ipynb",
      "provenance": [],
      "collapsed_sections": []
    },
    "kernelspec": {
      "name": "python3",
      "display_name": "Python 3"
    }
  },
  "cells": [
    {
      "cell_type": "markdown",
      "metadata": {
        "id": "TkhRyv1ALbX9"
      },
      "source": [
        "## Exercício 1\n",
        "\n",
        "Modifique o exemplo abaixo (tabuada) para gerar as tabuadas de 1 a 10\n",
        "\n",
        "```\n",
        "print('+-----------------+')\n",
        "print('|   TABUADA DE 2  |')\n",
        "print('+-----------------+')\n",
        "\n",
        "for i in range(11):\n",
        "    print('| 2  x %2s   = %2s' % (i, 2*i), ' |')\n",
        "    \n",
        "print('+-----------------+')\n",
        "```\n"
      ]
    },
    {
      "cell_type": "code",
      "metadata": {
        "id": "mvzKDKPELbX9"
      },
      "source": [
        "print('+-----------------+')\r\n",
        "print('|TABUADA DE 1 A 10|')\r\n",
        "print('+-----------------+')\r\n",
        "for i in range(11):\r\n",
        "    for i2 in range(11):\r\n",
        "        print('| %2s  x %2s   = %2s' % (i,i2, i*i2), ' |')\r\n",
        "    print('+-----------------+')\r\n"
      ],
      "execution_count": null,
      "outputs": []
    },
    {
      "cell_type": "markdown",
      "metadata": {
        "id": "MlJ21GyKL1ul"
      },
      "source": [
        "## Exercício 2\n",
        "Sejam as listas abaixo referentes aos nomes de alunos e suas respectivas notas do 1º, 2º e 3º VA's. Crie um programa que calcule a média de cada aluno, e imprima o seu nome, a média calculada e o status, 'APROVADO' caso a média seja maior ou igual a 7,0 (sete) e 'REPROVADO' caso contrário."
      ]
    },
    {
      "cell_type": "code",
      "metadata": {
        "id": "xQROS9M7LbYA"
      },
      "source": [
        "notas_alunos = [['Zezé di Camargo', 4.5, 8, 9.5],\n",
        "                ['Gretchen Babado', 6, 7.5, 4],\n",
        "                ['Luan Santana', 7.5, 5.8, 9.5],\n",
        "                ['Pablo Vittar', 4.5, 8.7, 6],\n",
        "                ['Joelma Calypso', 10, 7.8, 9.5],\n",
        "                ['Conde do Brega', 9.8, 8, 9.5]]\n",
        "                \n",
        "media=0\n",
        "for i in range(len(notas_alunos)):\n",
        "    media = (notas_alunos[i][1] + notas_alunos[i][2] + notas_alunos[i][3])/3\n",
        "    if media >= 7:\n",
        "        print('Aluno {} foi APROVADO com media {:.1f}'.format(notas_alunos[i][0],media))\n",
        "    else:\n",
        "        print('Aluno {} foi REPROVADO com media {:.1f}'.format(notas_alunos[i][0],media))\n",
        "    print('\\n')"
      ],
      "execution_count": 1,
      "outputs": []
    },
    {
      "cell_type": "markdown",
      "metadata": {
        "id": "qjby663XN_lx"
      },
      "source": [
        "## Exercício 3\n",
        "Seja a função matemática definida abaixo:\n",
        "$$f(n) = n^2+1$$\n",
        "Escreva um programa em python, que calcule o valor de f(n) para todos os números no intervalo `[0,100]`, e armazene todos os valores calculados em uma lista"
      ]
    },
    {
      "cell_type": "code",
      "metadata": {
        "id": "Tzov9dvJWzIA"
      },
      "source": [
        ""
      ],
      "execution_count": null,
      "outputs": []
    },
    {
      "cell_type": "code",
      "metadata": {
        "id": "WzpIjng3NliK"
      },
      "source": [
        "lista = []\r\n",
        "for i in range(101):\r\n",
        "    x = i**2 + 1\r\n",
        "    lista.append(x)"
      ],
      "execution_count": null,
      "outputs": []
    },
    {
      "cell_type": "markdown",
      "metadata": {
        "id": "pzLlPr0FPiee"
      },
      "source": [
        "## Exercício 4\n",
        "Escreva um programa em python que imprima na tela todos os números ímpares de 0 a 1000."
      ]
    },
    {
      "cell_type": "code",
      "metadata": {
        "id": "QSa3Q-JbN96m"
      },
      "source": [
        "for i in range(1001):\r\n",
        "    if i % 2 != 0:\r\n",
        "        print(i)\r\n"
      ],
      "execution_count": null,
      "outputs": []
    },
    {
      "cell_type": "code",
      "metadata": {
        "id": "wNYsuFSW8pho"
      },
      "source": [
        ""
      ],
      "execution_count": null,
      "outputs": []
    }
  ]
}