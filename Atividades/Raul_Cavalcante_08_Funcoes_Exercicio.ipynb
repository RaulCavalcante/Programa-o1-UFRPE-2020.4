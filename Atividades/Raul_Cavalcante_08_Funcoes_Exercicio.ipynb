{
  "nbformat": 4,
  "nbformat_minor": 0,
  "metadata": {
    "colab": {
      "name": "Raul Cavalcante - 08_Funcoes-Exercicio.ipynb",
      "provenance": [],
      "collapsed_sections": []
    },
    "kernelspec": {
      "name": "python3",
      "display_name": "Python 3"
    }
  },
  "cells": [
    {
      "cell_type": "markdown",
      "metadata": {
        "id": "4uybZYX1W1RJ"
      },
      "source": [
        "# Exercício\n",
        "\n",
        "Escreva uma função em python chamada ‘histograma’que receba como entrada uma string, e retorne um dicionário cujas chaves correspondem à letras da string de entrada, e os valores correspondam à quantidade de vezes que cada letra se repete na string. Por exemplo:\n",
        "```\n",
        ">>> h = histograma('brontosaurus')\n",
        ">>> h\n",
        "{'a': 1, 'b': 1, 'o': 2, 'n': 1, 's': 2, 'r': 2, 'u': 2, 't': 1}\n",
        "```"
      ]
    },
    {
      "cell_type": "code",
      "metadata": {
        "id": "ZTW16e9jmMXa"
      },
      "source": [
        "def histograma ( palavra ):\r\n",
        "    lista = []\r\n",
        "    histo = [] \r\n",
        "    palavra = palavra.lower()\r\n",
        "    for i in range(len(palavra)):\r\n",
        "        lista.append(palavra[i])\r\n",
        "    if lista.count('a') > 0 :\r\n",
        "        histo.append('a : {}'.format(lista.count('a')))\r\n",
        "    if lista.count('b') > 0 :\r\n",
        "        histo.append('b : {}'.format(lista.count('b')))\r\n",
        "    if lista.count('c') > 0 :\r\n",
        "        histo.append('c : {}'.format(lista.count('c')))\r\n",
        "    if lista.count('d') > 0 :\r\n",
        "        histo.append('d : {}'.format(lista.count('d')))\r\n",
        "    if lista.count('e') > 0 :\r\n",
        "        histo.append('e : {}'.format(lista.count('e')))\r\n",
        "    if lista.count('f') > 0 :\r\n",
        "        histo.append('f : {}'.format(lista.count('f')))\r\n",
        "    if lista.count('g') > 0 :\r\n",
        "        histo.append('g : {}'.format(lista.count('g')))\r\n",
        "    if lista.count('h') > 0 :\r\n",
        "        histo.append('h : {}'.format(lista.count('h')))\r\n",
        "    if lista.count('i') > 0 :\r\n",
        "        histo.append('i : {}'.format(lista.count('i')))\r\n",
        "    if lista.count('j') > 0 :\r\n",
        "        histo.append('j : {}'.format(lista.count('j')))\r\n",
        "    if lista.count('k') > 0 :\r\n",
        "        histo.append('k : {}'.format(lista.count('k')))\r\n",
        "    if lista.count('l') > 0 :\r\n",
        "        histo.append('l : {}'.format(lista.count('l')))\r\n",
        "    if lista.count('m') > 0 :\r\n",
        "        histo.append('m : {}'.format(lista.count('m')))\r\n",
        "    if lista.count('n') > 0 :\r\n",
        "        histo.append('n : {}'.format(lista.count('n')))\r\n",
        "    if lista.count('o') > 0 :\r\n",
        "        histo.append('o : {}'.format(lista.count('o')))\r\n",
        "    if lista.count('p') > 0 :\r\n",
        "        histo.append('p : {}'.format(lista.count('p')))\r\n",
        "    if lista.count('q') > 0 :\r\n",
        "        histo.append('q : {}'.format(lista.count('q')))\r\n",
        "    if lista.count('r') > 0 :\r\n",
        "        histo.append('r : {}'.format(lista.count('r')))\r\n",
        "    if lista.count('s') > 0 :\r\n",
        "        histo.append('s : {}'.format(lista.count('s')))\r\n",
        "    if lista.count('t') > 0 :\r\n",
        "        histo.append('t : {}'.format(lista.count('t')))\r\n",
        "    if lista.count('u') > 0 :\r\n",
        "        histo.append('u : {}'.format(lista.count('u')))\r\n",
        "    if lista.count('v') > 0 :\r\n",
        "        histo.append('v : {}'.format(lista.count('v')))\r\n",
        "    if lista.count('w') > 0 :\r\n",
        "        histo.append('w : {}'.format(lista.count('w')))\r\n",
        "    if lista.count('x') > 0 :\r\n",
        "        histo.append('x : {}'.format(lista.count('x')))\r\n",
        "    if lista.count('y') > 0 :\r\n",
        "        histo.append('y : {}'.format(lista.count('y')))\r\n",
        "    if lista.count('z') > 0 :\r\n",
        "        histo.append('z : {}'.format(lista.count('z')))   \r\n",
        "\r\n",
        "    print(histo)"
      ],
      "execution_count": null,
      "outputs": []
    },
    {
      "cell_type": "code",
      "metadata": {
        "id": "FpdPU9_1mTqN",
        "colab": {
          "base_uri": "https://localhost:8080/"
        },
        "outputId": "54338c1a-b406-4bc2-a10a-de650fb05f29"
      },
      "source": [
        "def histograma ( palavra ):\n",
        "    lista = []\n",
        "    histo = [] \n",
        "    palavra = palavra.lower()\n",
        "    for i in range(len(palavra)):\n",
        "        lista.append(palavra[i])\n",
        "    if lista.count('a') > 0 :\n",
        "        histo.append('a : {}'.format(lista.count('a')))\n",
        "    if lista.count('b') > 0 :\n",
        "        histo.append('b : {}'.format(lista.count('b')))\n",
        "    if lista.count('c') > 0 :\n",
        "        histo.append('c : {}'.format(lista.count('c')))\n",
        "    if lista.count('d') > 0 :\n",
        "        histo.append('d : {}'.format(lista.count('d')))\n",
        "    if lista.count('e') > 0 :\n",
        "        histo.append('e : {}'.format(lista.count('e')))\n",
        "    if lista.count('f') > 0 :\n",
        "        histo.append('f : {}'.format(lista.count('f')))\n",
        "    if lista.count('g') > 0 :\n",
        "        histo.append('g : {}'.format(lista.count('g')))\n",
        "    if lista.count('h') > 0 :\n",
        "        histo.append('h : {}'.format(lista.count('h')))\n",
        "    if lista.count('i') > 0 :\n",
        "        histo.append('i : {}'.format(lista.count('i')))\n",
        "    if lista.count('j') > 0 :\n",
        "        histo.append('j : {}'.format(lista.count('j')))\n",
        "    if lista.count('k') > 0 :\n",
        "        histo.append('k : {}'.format(lista.count('k')))\n",
        "    if lista.count('l') > 0 :\n",
        "        histo.append('l : {}'.format(lista.count('l')))\n",
        "    if lista.count('m') > 0 :\n",
        "        histo.append('m : {}'.format(lista.count('m')))\n",
        "    if lista.count('n') > 0 :\n",
        "        histo.append('n : {}'.format(lista.count('n')))\n",
        "    if lista.count('o') > 0 :\n",
        "        histo.append('o : {}'.format(lista.count('o')))\n",
        "    if lista.count('p') > 0 :\n",
        "        histo.append('p : {}'.format(lista.count('p')))\n",
        "    if lista.count('q') > 0 :\n",
        "        histo.append('q : {}'.format(lista.count('q')))\n",
        "    if lista.count('r') > 0 :\n",
        "        histo.append('r : {}'.format(lista.count('r')))\n",
        "    if lista.count('s') > 0 :\n",
        "        histo.append('s : {}'.format(lista.count('s')))\n",
        "    if lista.count('t') > 0 :\n",
        "        histo.append('t : {}'.format(lista.count('t')))\n",
        "    if lista.count('u') > 0 :\n",
        "        histo.append('u : {}'.format(lista.count('u')))\n",
        "    if lista.count('v') > 0 :\n",
        "        histo.append('v : {}'.format(lista.count('v')))\n",
        "    if lista.count('w') > 0 :\n",
        "        histo.append('w : {}'.format(lista.count('w')))\n",
        "    if lista.count('x') > 0 :\n",
        "        histo.append('x : {}'.format(lista.count('x')))\n",
        "    if lista.count('y') > 0 :\n",
        "        histo.append('y : {}'.format(lista.count('y')))\n",
        "    if lista.count('z') > 0 :\n",
        "        histo.append('z : {}'.format(lista.count('z')))   \n",
        "\n",
        "    print(histo)\n",
        "\n",
        "histograma('brontosaurus')\n"
      ],
      "execution_count": 2,
      "outputs": [
        {
          "output_type": "stream",
          "text": [
            "['a : 1', 'b : 1', 'n : 1', 'o : 2', 'r : 2', 's : 2', 't : 1', 'u : 2']\n"
          ],
          "name": "stdout"
        }
      ]
    }
  ]
}